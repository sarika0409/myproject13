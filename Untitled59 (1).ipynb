{
 "cells": [
  {
   "cell_type": "markdown",
   "id": "96630dc8",
   "metadata": {},
   "source": [
    "# Final Project: Data Science Tools and Examples"
   ]
  },
  {
   "cell_type": "markdown",
   "id": "472cf88b",
   "metadata": {},
   "source": [
    "## Introduction\n",
    "This notebook contains exercises to demonstrate knowledge of data science tools, libraries, and basic arithmetic operations. It is part of the final project for the data science course.\n"
   ]
  },
  {
   "cell_type": "markdown",
   "id": "301c2bc6",
   "metadata": {},
   "source": [
    "## Data Science Languages\n",
    "\n"
   ]
  },
  {
   "cell_type": "markdown",
   "id": "6be75e6a",
   "metadata": {},
   "source": [
    "Some of the Popular languages that Data Scientists use are: \n",
    "\n",
    "1. Python\n",
    "2. R\n",
    "3. SQL\n",
    "4. Scala\n",
    "5. Java\n",
    "6. C++\n",
    "7. Julia\n",
    "8. JavaScript\n",
    "9. PHP\n",
    "10. Go\n",
    "11. Ruby\n",
    "12. Visual Basic\n"
   ]
  },
  {
   "cell_type": "markdown",
   "id": "baf05d40",
   "metadata": {},
   "source": [
    "## Data Science Libraries"
   ]
  },
  {
   "cell_type": "markdown",
   "id": "a6463287",
   "metadata": {},
   "source": [
    "Some of the Popular languages that Data Scientists use are: \n",
    "1. Pandas\n",
    "2. NumPy\n",
    "3. Matplotlib\n",
    "4. Seaborn\n",
    "5. Scikit-learn\n",
    "6. Keras\n",
    "7. TensorFlow\n",
    "8. PyTorch\n",
    "9. Apache Spark\n",
    "10. Vegas\n",
    "11. BigDL\n",
    "12. ggplot2"
   ]
  },
  {
   "cell_type": "markdown",
   "id": "44586473",
   "metadata": {},
   "source": [
    "## Data Science Tools"
   ]
  },
  {
   "cell_type": "markdown",
   "id": "172820f9",
   "metadata": {},
   "source": [
    "| Data Science Tools |\n",
    "|---------------|\n",
    "| Jupyter       | \n",
    "| RStudio       |\n",
    "| Apache Spark  |\n",
    "| Tableau       |\n",
    "| Power BI      |\n"
   ]
  },
  {
   "cell_type": "markdown",
   "id": "246a3c9b",
   "metadata": {},
   "source": [
    "## Arithmetic Expression Examples"
   ]
  },
  {
   "cell_type": "markdown",
   "id": "dcd274ec",
   "metadata": {},
   "source": [
    "Below are examples of evaluating arithmetic expressions in Python"
   ]
  },
  {
   "cell_type": "markdown",
   "id": "8c07a016",
   "metadata": {},
   "source": [
    "# Multiplication and Addition"
   ]
  },
  {
   "cell_type": "code",
   "execution_count": 2,
   "id": "b18c40f8",
   "metadata": {},
   "outputs": [
    {
     "data": {
      "text/plain": [
       "17"
      ]
     },
     "execution_count": 2,
     "metadata": {},
     "output_type": "execute_result"
    }
   ],
   "source": [
    "# This is a simple arthemetic expression to multiply and then add integers\n",
    "(3*4)+5"
   ]
  },
  {
   "cell_type": "markdown",
   "id": "b6280335",
   "metadata": {},
   "source": [
    "# Convert minutes to hours"
   ]
  },
  {
   "cell_type": "code",
   "execution_count": 4,
   "id": "85086a7f",
   "metadata": {},
   "outputs": [
    {
     "data": {
      "text/plain": [
       "3.3333333333333335"
      ]
     },
     "execution_count": 4,
     "metadata": {},
     "output_type": "execute_result"
    }
   ],
   "source": [
    "## Convert 200 minutes to hours by dividing by 60\n",
    "200 / 60"
   ]
  },
  {
   "cell_type": "markdown",
   "id": "683489f4",
   "metadata": {},
   "source": [
    "## Objectives\n",
    "- Add comments to code cells\n",
    "- Create Markdown cells\n",
    "- Add ordered and unordered lists to markdown cells \n",
    "- Format content of markdown cells with heading styles"
   ]
  },
  {
   "cell_type": "markdown",
   "id": "111f7b76",
   "metadata": {},
   "source": [
    "## Author\n",
    "Sarika Amudalapalli\n"
   ]
  },
  {
   "cell_type": "code",
   "execution_count": null,
   "id": "5aed9add",
   "metadata": {},
   "outputs": [],
   "source": []
  }
 ],
 "metadata": {
  "kernelspec": {
   "display_name": "Python 3 (ipykernel)",
   "language": "python",
   "name": "python3"
  },
  "language_info": {
   "codemirror_mode": {
    "name": "ipython",
    "version": 3
   },
   "file_extension": ".py",
   "mimetype": "text/x-python",
   "name": "python",
   "nbconvert_exporter": "python",
   "pygments_lexer": "ipython3",
   "version": "3.11.5"
  }
 },
 "nbformat": 4,
 "nbformat_minor": 5
}
